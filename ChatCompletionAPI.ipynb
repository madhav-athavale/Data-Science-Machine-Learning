{
 "cells": [
  {
   "cell_type": "code",
   "execution_count": 1,
   "id": "715da0ed",
   "metadata": {},
   "outputs": [],
   "source": [
    "import openai"
   ]
  },
  {
   "cell_type": "code",
   "execution_count": null,
   "id": "5665db3c",
   "metadata": {},
   "outputs": [],
   "source": [
    "# done using openai version 0.28"
   ]
  },
  {
   "cell_type": "code",
   "execution_count": 2,
   "id": "b661af79",
   "metadata": {},
   "outputs": [],
   "source": [
    "openai.api_key = '****'"
   ]
  },
  {
   "cell_type": "code",
   "execution_count": 3,
   "id": "eceb2460",
   "metadata": {},
   "outputs": [],
   "source": [
    "response = openai.ChatCompletion.create(\n",
    "    model='gpt-3.5-turbo',\n",
    "    # stop = [\"research\",\"artificial\"],\n",
    "    stop='chatbot',\n",
    "    temperature=0.4,\n",
    "    max_tokens=200,\n",
    "\n",
    "    messages=[{'role': 'user', 'content': 'What is openai'}]\n",
    "    # messages = [{'role': 'user', 'content': 'write a rap song on OpenAI'}]\n",
    ")"
   ]
  },
  {
   "cell_type": "code",
   "execution_count": 4,
   "id": "d18a541d",
   "metadata": {},
   "outputs": [
    {
     "name": "stdout",
     "output_type": "stream",
     "text": [
      "{\n",
      "  \"id\": \"chatcmpl-99bAi4Ze2tQmn10TEf4BkhJQ2IHwh\",\n",
      "  \"object\": \"chat.completion\",\n",
      "  \"created\": 1712074868,\n",
      "  \"model\": \"gpt-3.5-turbo-0125\",\n",
      "  \"choices\": [\n",
      "    {\n",
      "      \"index\": 0,\n",
      "      \"message\": {\n",
      "        \"role\": \"assistant\",\n",
      "        \"content\": \"OpenAI is an artificial intelligence research laboratory consisting of the for-profit OpenAI LP and the non-profit OpenAI Inc. It was founded in December 2015 by Elon Musk, Sam Altman, Greg Brockman, Ilya Sutskever, John Schulman, and Wojciech Zaremba. OpenAI's mission is to ensure that artificial general intelligence (AGI) benefits all of humanity. They conduct research in various areas of artificial intelligence, including deep learning, reinforcement learning, and robotics. OpenAI has also developed several AI models, such as GPT-3, which have garnered attention for their impressive capabilities.\"\n",
      "      },\n",
      "      \"logprobs\": null,\n",
      "      \"finish_reason\": \"stop\"\n",
      "    }\n",
      "  ],\n",
      "  \"usage\": {\n",
      "    \"prompt_tokens\": 11,\n",
      "    \"completion_tokens\": 129,\n",
      "    \"total_tokens\": 140\n",
      "  },\n",
      "  \"system_fingerprint\": \"fp_b28b39ffa8\"\n",
      "}\n"
     ]
    }
   ],
   "source": [
    "print(response)"
   ]
  },
  {
   "cell_type": "code",
   "execution_count": null,
   "id": "7fce18a4",
   "metadata": {},
   "outputs": [],
   "source": []
  }
 ],
 "metadata": {
  "kernelspec": {
   "display_name": "Python 3 (ipykernel)",
   "language": "python",
   "name": "python3"
  },
  "language_info": {
   "codemirror_mode": {
    "name": "ipython",
    "version": 3
   },
   "file_extension": ".py",
   "mimetype": "text/x-python",
   "name": "python",
   "nbconvert_exporter": "python",
   "pygments_lexer": "ipython3",
   "version": "3.9.13"
  }
 },
 "nbformat": 4,
 "nbformat_minor": 5
}
