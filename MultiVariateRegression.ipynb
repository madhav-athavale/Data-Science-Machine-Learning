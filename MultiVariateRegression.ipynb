{
 "cells": [
  {
   "cell_type": "code",
   "execution_count": null,
   "id": "f7608597",
   "metadata": {},
   "outputs": [],
   "source": [
    "#Multi Variate Regression to predict salary based on test scores, interview scores and experience"
   ]
  },
  {
   "cell_type": "code",
   "execution_count": null,
   "id": "f666f11d",
   "metadata": {},
   "outputs": [],
   "source": [
    "import pandas as pd\n",
    "import numpy as np\n",
    "from matplotlib import pyplot as plt\n",
    "from sklearn import linear_model\n",
    "from word2number import w2n\n",
    "import math"
   ]
  },
  {
   "cell_type": "code",
   "execution_count": null,
   "id": "ed9f4008",
   "metadata": {},
   "outputs": [],
   "source": [
    "#File path."
   ]
  },
  {
   "cell_type": "code",
   "execution_count": null,
   "id": "64de2e21",
   "metadata": {},
   "outputs": [],
   "source": [
    "df = pd.read_csv(\"hiring.csv\")"
   ]
  },
  {
   "cell_type": "code",
   "execution_count": null,
   "id": "e4b938f7",
   "metadata": {},
   "outputs": [],
   "source": [
    "#df.columns('experience', 'test_score', 'interview_score', 'salary'  )\n",
    "df.rename(columns = {'test_score(out of 10)':'test_score', 'interview_score(out of 10)':'interview_score', 'salary($)':'salary'}, inplace = True)\n"
   ]
  },
  {
   "cell_type": "code",
   "execution_count": null,
   "id": "7925fa54",
   "metadata": {},
   "outputs": [],
   "source": [
    "df.shape"
   ]
  },
  {
   "cell_type": "code",
   "execution_count": null,
   "id": "ae171008",
   "metadata": {},
   "outputs": [],
   "source": [
    "df"
   ]
  },
  {
   "cell_type": "code",
   "execution_count": null,
   "id": "10e06096",
   "metadata": {},
   "outputs": [],
   "source": [
    "df.testscore = df.test_score.median()"
   ]
  },
  {
   "cell_type": "code",
   "execution_count": null,
   "id": "bc64687e",
   "metadata": {},
   "outputs": [],
   "source": [
    "#df.bedrooms = df.bedrooms.fillna(df.bedrooms.median())\n",
    "df.test_score=df.test_score.fillna(df.test_score.median())"
   ]
  },
  {
   "cell_type": "code",
   "execution_count": null,
   "id": "abcf3276",
   "metadata": {},
   "outputs": [],
   "source": [
    "df"
   ]
  },
  {
   "cell_type": "code",
   "execution_count": null,
   "id": "73184767",
   "metadata": {},
   "outputs": [],
   "source": [
    "df=df.fillna('zero')"
   ]
  },
  {
   "cell_type": "code",
   "execution_count": null,
   "id": "f0e1ab50",
   "metadata": {},
   "outputs": [],
   "source": [
    "df['experience'] = df.experience.astype(str)"
   ]
  },
  {
   "cell_type": "code",
   "execution_count": null,
   "id": "f463a416",
   "metadata": {},
   "outputs": [],
   "source": [
    "df"
   ]
  },
  {
   "cell_type": "code",
   "execution_count": null,
   "id": "93de7b4c",
   "metadata": {},
   "outputs": [],
   "source": [
    "df.experience = df.experience.apply(w2n.word_to_num)\n"
   ]
  },
  {
   "cell_type": "code",
   "execution_count": null,
   "id": "2422cd28",
   "metadata": {},
   "outputs": [],
   "source": [
    "df\n"
   ]
  },
  {
   "cell_type": "code",
   "execution_count": null,
   "id": "653fd017",
   "metadata": {},
   "outputs": [],
   "source": [
    "reg = linear_model.LinearRegression()\n",
    "reg.fit(df.drop('salary', axis='columns'), df.salary)"
   ]
  },
  {
   "cell_type": "code",
   "execution_count": null,
   "id": "86133d18",
   "metadata": {},
   "outputs": [],
   "source": [
    "reg.coef_"
   ]
  },
  {
   "cell_type": "code",
   "execution_count": null,
   "id": "0b52e624",
   "metadata": {},
   "outputs": [],
   "source": [
    "print(reg.intercept_)"
   ]
  },
  {
   "cell_type": "code",
   "execution_count": null,
   "id": "0d9d236d",
   "metadata": {},
   "outputs": [],
   "source": [
    "reg.predict([[2,9,6]])"
   ]
  },
  {
   "cell_type": "code",
   "execution_count": null,
   "id": "8fda8047",
   "metadata": {},
   "outputs": [],
   "source": [
    "reg.predict([[12,10,10]])"
   ]
  },
  {
   "cell_type": "code",
   "execution_count": null,
   "id": "894eeac7",
   "metadata": {},
   "outputs": [],
   "source": []
  }
 ],
 "metadata": {
  "kernelspec": {
   "display_name": "Python 3 (ipykernel)",
   "language": "python",
   "name": "python3"
  },
  "language_info": {
   "codemirror_mode": {
    "name": "ipython",
    "version": 3
   },
   "file_extension": ".py",
   "mimetype": "text/x-python",
   "name": "python",
   "nbconvert_exporter": "python",
   "pygments_lexer": "ipython3",
   "version": "3.9.13"
  }
 },
 "nbformat": 4,
 "nbformat_minor": 5
}
