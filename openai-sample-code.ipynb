{
 "cells": [
  {
   "cell_type": "code",
   "execution_count": null,
   "id": "70267e8e",
   "metadata": {},
   "outputs": [],
   "source": [
    "import openai\n"
   ]
  },
  {
   "cell_type": "code",
   "execution_count": null,
   "id": "bc0363b2",
   "metadata": {},
   "outputs": [],
   "source": [
    "openai.api_key = 'XXXXX'"
   ]
  },
  {
   "cell_type": "code",
   "execution_count": null,
   "id": "2d6ed0ca",
   "metadata": {},
   "outputs": [],
   "source": [
    "model_engine = \"text-davinci-003\"\n",
    "prompt = \"Positive or Negative? TSLA > $100 \""
   ]
  },
  {
   "cell_type": "code",
   "execution_count": null,
   "id": "893ea272",
   "metadata": {},
   "outputs": [],
   "source": [
    "completion = openai.Completion.create(\n",
    "    engine=model_engine,\n",
    "    prompt=prompt,\n",
    "    max_tokens=10,\n",
    "    n=1,\n",
    "    stop=None,\n",
    "    temperature=0.5,\n",
    ")"
   ]
  },
  {
   "cell_type": "code",
   "execution_count": null,
   "id": "8bb2adeb",
   "metadata": {},
   "outputs": [],
   "source": [
    "type(completion)"
   ]
  },
  {
   "cell_type": "code",
   "execution_count": null,
   "id": "fa46422a",
   "metadata": {},
   "outputs": [],
   "source": [
    "response = completion.choices[0].text\n",
    "print(response)"
   ]
  },
  {
   "cell_type": "code",
   "execution_count": null,
   "id": "0899b4ad",
   "metadata": {},
   "outputs": [],
   "source": [
    "openai.Model.list()"
   ]
  },
  {
   "cell_type": "code",
   "execution_count": null,
   "id": "1de7531c",
   "metadata": {},
   "outputs": [],
   "source": []
  }
 ],
 "metadata": {
  "kernelspec": {
   "display_name": "Python 3 (ipykernel)",
   "language": "python",
   "name": "python3"
  },
  "language_info": {
   "codemirror_mode": {
    "name": "ipython",
    "version": 3
   },
   "file_extension": ".py",
   "mimetype": "text/x-python",
   "name": "python",
   "nbconvert_exporter": "python",
   "pygments_lexer": "ipython3",
   "version": "3.9.13"
  }
 },
 "nbformat": 4,
 "nbformat_minor": 5
}
