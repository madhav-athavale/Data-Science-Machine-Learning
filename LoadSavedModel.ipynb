{
 "cells": [
  {
   "cell_type": "code",
   "execution_count": null,
   "id": "2ca14e6d",
   "metadata": {},
   "outputs": [],
   "source": [
    "import joblib"
   ]
  },
  {
   "cell_type": "code",
   "execution_count": 5,
   "id": "76da142e",
   "metadata": {},
   "outputs": [],
   "source": [
    "model = joblib.load('md_CarPrices_joblib')"
   ]
  },
  {
   "cell_type": "code",
   "execution_count": 6,
   "id": "a4c5d3ab",
   "metadata": {},
   "outputs": [
    {
     "data": {
      "text/plain": [
       "array([11080.74313219])"
      ]
     },
     "execution_count": 6,
     "metadata": {},
     "output_type": "execute_result"
    }
   ],
   "source": [
    "model.predict([[1,0,86000,7]]) "
   ]
  },
  {
   "cell_type": "code",
   "execution_count": null,
   "id": "31eeedbe",
   "metadata": {},
   "outputs": [],
   "source": [
    "# Got the same price as the original prediction - from OneHotEncoding.ipynb notebook."
   ]
  }
 ],
 "metadata": {
  "kernelspec": {
   "display_name": "Python 3 (ipykernel)",
   "language": "python",
   "name": "python3"
  },
  "language_info": {
   "codemirror_mode": {
    "name": "ipython",
    "version": 3
   },
   "file_extension": ".py",
   "mimetype": "text/x-python",
   "name": "python",
   "nbconvert_exporter": "python",
   "pygments_lexer": "ipython3",
   "version": "3.9.13"
  }
 },
 "nbformat": 4,
 "nbformat_minor": 5
}
