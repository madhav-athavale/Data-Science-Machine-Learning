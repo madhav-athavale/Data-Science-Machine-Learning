{
 "cells": [
  {
   "cell_type": "code",
   "execution_count": 1,
   "id": "6a5f788c",
   "metadata": {},
   "outputs": [],
   "source": [
    "import joblib"
   ]
  },
  {
   "cell_type": "code",
   "execution_count": 5,
   "id": "bc3679ce",
   "metadata": {},
   "outputs": [],
   "source": [
    "model = joblib.load('md_CarPrices_joblib')"
   ]
  },
  {
   "cell_type": "code",
   "execution_count": 6,
   "id": "415f6917",
   "metadata": {},
   "outputs": [
    {
     "data": {
      "text/plain": [
       "array([11080.74313219])"
      ]
     },
     "execution_count": 6,
     "metadata": {},
     "output_type": "execute_result"
    }
   ],
   "source": [
    "model.predict([[1,0,86000,7]]) "
   ]
  },
  {
   "cell_type": "code",
   "execution_count": null,
   "id": "ed2dbf6a",
   "metadata": {},
   "outputs": [],
   "source": [
    "# Got the same price as the original prediction - form OneHot"
   ]
  }
 ],
 "metadata": {
  "kernelspec": {
   "display_name": "Python 3 (ipykernel)",
   "language": "python",
   "name": "python3"
  },
  "language_info": {
   "codemirror_mode": {
    "name": "ipython",
    "version": 3
   },
   "file_extension": ".py",
   "mimetype": "text/x-python",
   "name": "python",
   "nbconvert_exporter": "python",
   "pygments_lexer": "ipython3",
   "version": "3.9.13"
  }
 },
 "nbformat": 4,
 "nbformat_minor": 5
}
