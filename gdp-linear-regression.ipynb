{
 "cells": [
  {
   "cell_type": "markdown",
   "id": "6dd351d3",
   "metadata": {},
   "source": [
    "#This notebok is for GDP linnear regression This was one of the exercises from an online course. This model is not a good one since independent variable is year. "
   ]
  },
  {
   "cell_type": "code",
   "execution_count": null,
   "id": "3894754b",
   "metadata": {},
   "outputs": [],
   "source": [
    "import requests as req\n",
    "import pandas as pd \n",
    "import numpy as np\n",
    "from sklearn import linear_model\n",
    "import matplotlib.pyplot as plt\n",
    "import json"
   ]
  },
  {
   "cell_type": "markdown",
   "id": "78023b3b",
   "metadata": {},
   "source": [
    "#The url is from alpha advantage open source data."
   ]
  },
  {
   "cell_type": "code",
   "execution_count": null,
   "id": "d3f0dedb",
   "metadata": {},
   "outputs": [],
   "source": [
    "pswd = pd.read_csv(\"$PSWD file name with full path\") # The text file should have only pswd on the first line."
   ]
  },
  {
   "cell_type": "code",
   "execution_count": null,
   "id": "69f307ea",
   "metadata": {},
   "outputs": [],
   "source": [
    "print(pswd.columns[0]) #PSWD is the first column name"
   ]
  },
  {
   "cell_type": "code",
   "execution_count": null,
   "id": "66a5fdf8",
   "metadata": {},
   "outputs": [],
   "source": [
    "url = 'https://www.alphavantage.co/query?function=REAL_GDP&interval=annual&apikey=pswd.columns[0]'"
   ]
  },
  {
   "cell_type": "code",
   "execution_count": null,
   "id": "a6f1b741",
   "metadata": {},
   "outputs": [],
   "source": [
    "r = req.get(url)\n",
    "gdp_data = r.json()\n"
   ]
  },
  {
   "cell_type": "code",
   "execution_count": null,
   "id": "3315962a",
   "metadata": {},
   "outputs": [],
   "source": [
    "dt = gdp_data['data']"
   ]
  },
  {
   "cell_type": "code",
   "execution_count": null,
   "id": "15c623b6",
   "metadata": {},
   "outputs": [],
   "source": [
    "print(dt)"
   ]
  },
  {
   "cell_type": "code",
   "execution_count": null,
   "id": "9d67e658",
   "metadata": {},
   "outputs": [],
   "source": [
    "gdp_by_date = []\n",
    "\n",
    "for i in dt:\n",
    "    gdp_by_date.append(i)"
   ]
  },
  {
   "cell_type": "code",
   "execution_count": null,
   "id": "31f9cdbb",
   "metadata": {},
   "outputs": [],
   "source": [
    "gdp_by_date['date' == '2010-01-01']"
   ]
  },
  {
   "cell_type": "code",
   "execution_count": null,
   "id": "ff4e0c44",
   "metadata": {},
   "outputs": [],
   "source": [
    "df = pd.DataFrame(gdp_by_date)"
   ]
  },
  {
   "cell_type": "code",
   "execution_count": null,
   "id": "2480156a",
   "metadata": {},
   "outputs": [],
   "source": [
    "df"
   ]
  },
  {
   "cell_type": "code",
   "execution_count": null,
   "id": "2d57b403",
   "metadata": {},
   "outputs": [],
   "source": [
    "df_gdp = df[df['date'] >= '2010-01-01']"
   ]
  },
  {
   "cell_type": "code",
   "execution_count": null,
   "id": "497cb444",
   "metadata": {},
   "outputs": [],
   "source": [
    "df_gdp = df_gdp.sort_values(by='date')"
   ]
  },
  {
   "cell_type": "code",
   "execution_count": null,
   "id": "35b70c87",
   "metadata": {},
   "outputs": [],
   "source": [
    "pd.to_datetime(df_gdp['date'])"
   ]
  },
  {
   "cell_type": "code",
   "execution_count": null,
   "id": "285ff35f",
   "metadata": {},
   "outputs": [],
   "source": [
    "%matplotlib inline\n",
    "plt.scatter(df_gdp['date'], df_gdp['value'])\n",
    "plt.xlabel('Year')\n",
    "plt.ylabel('GDP')\n",
    "plt.xticks(rotation=90)"
   ]
  },
  {
   "cell_type": "code",
   "execution_count": null,
   "id": "f4226a17",
   "metadata": {},
   "outputs": [],
   "source": [
    "df_date = df_gdp.drop('value', axis='columns')\n",
    "\n",
    "df_date = pd.to_datetime(df_date['date']).sort_values()"
   ]
  },
  {
   "cell_type": "code",
   "execution_count": null,
   "id": "b03b70a3",
   "metadata": {},
   "outputs": [],
   "source": [
    "reg = linear_model.LinearRegression()"
   ]
  },
  {
   "cell_type": "code",
   "execution_count": null,
   "id": "9f3be173",
   "metadata": {},
   "outputs": [],
   "source": [
    "df_date.index.values\n"
   ]
  },
  {
   "cell_type": "code",
   "execution_count": null,
   "id": "447b7e21",
   "metadata": {},
   "outputs": [],
   "source": [
    "reg.fit(df_date.index.values.reshape(-1,1), df_gdp['value'])"
   ]
  },
  {
   "cell_type": "code",
   "execution_count": null,
   "id": "009f0076",
   "metadata": {},
   "outputs": [],
   "source": [
    "reg.coef_"
   ]
  },
  {
   "cell_type": "code",
   "execution_count": null,
   "id": "e2260cd8",
   "metadata": {},
   "outputs": [],
   "source": [
    "reg.intercept_"
   ]
  },
  {
   "cell_type": "code",
   "execution_count": null,
   "id": "919b2983",
   "metadata": {},
   "outputs": [],
   "source": [
    "19860 + 358 #This is for 2023. For some reason coeffcient is negative. "
   ]
  },
  {
   "cell_type": "code",
   "execution_count": null,
   "id": "fdc6b543",
   "metadata": {},
   "outputs": [],
   "source": []
  }
 ],
 "metadata": {
  "kernelspec": {
   "display_name": "Python 3 (ipykernel)",
   "language": "python",
   "name": "python3"
  },
  "language_info": {
   "codemirror_mode": {
    "name": "ipython",
    "version": 3
   },
   "file_extension": ".py",
   "mimetype": "text/x-python",
   "name": "python",
   "nbconvert_exporter": "python",
   "pygments_lexer": "ipython3",
   "version": "3.9.13"
  }
 },
 "nbformat": 4,
 "nbformat_minor": 5
}
